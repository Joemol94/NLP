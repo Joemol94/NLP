{
  "nbformat": 4,
  "nbformat_minor": 0,
  "metadata": {
    "colab": {
      "name": "Text Summarization.ipynb",
      "provenance": [],
      "collapsed_sections": []
    },
    "kernelspec": {
      "name": "python3",
      "display_name": "Python 3"
    },
    "language_info": {
      "name": "python"
    }
  },
  "cells": [
    {
      "cell_type": "code",
      "metadata": {
        "colab": {
          "base_uri": "https://localhost:8080/"
        },
        "id": "GLUkzezIpm9C",
        "outputId": "dcbf8bd1-5202-4c47-8d53-6b84ec366054"
      },
      "source": [
        "#Mounting Drive\n",
        "from google.colab import drive\n",
        "drive.mount('/content/drive')"
      ],
      "execution_count": 1,
      "outputs": [
        {
          "output_type": "stream",
          "text": [
            "Drive already mounted at /content/drive; to attempt to forcibly remount, call drive.mount(\"/content/drive\", force_remount=True).\n"
          ],
          "name": "stdout"
        }
      ]
    },
    {
      "cell_type": "code",
      "metadata": {
        "id": "FGOKWm_Qpm6Z"
      },
      "source": [
        "#Opening the text file\n",
        "book = open(r\"/content/drive/My Drive/tuesdays with morrie.txt\",'r')\n",
        "book_corpus=book.read()"
      ],
      "execution_count": 2,
      "outputs": []
    },
    {
      "cell_type": "markdown",
      "metadata": {
        "id": "cUmFVTGIRNQ2"
      },
      "source": [
        "#**Text summarization by extraction.**\n",
        "\n",
        "\n"
      ]
    },
    {
      "cell_type": "code",
      "metadata": {
        "id": "A7C7Ux7CLZRx"
      },
      "source": [
        "#nltk.download('stopwords')\n",
        "#nltk.download('punkt')"
      ],
      "execution_count": 3,
      "outputs": []
    },
    {
      "cell_type": "code",
      "metadata": {
        "id": "3a1lGviRpmt5"
      },
      "source": [
        "#importing libraries\n",
        "from nltk.corpus import stopwords\n",
        "from nltk.stem import PorterStemmer\n",
        "from nltk.tokenize import word_tokenize, sent_tokenize"
      ],
      "execution_count": 4,
      "outputs": []
    },
    {
      "cell_type": "code",
      "metadata": {
        "id": "TMUplu5vpmrv"
      },
      "source": [
        "#Creating a word freq table\n",
        "def create_dictionary_table(text_string) -> dict:\n",
        "   \n",
        "    #removing stop words\n",
        "    stop_words = set(stopwords.words(\"english\"))\n",
        "    \n",
        "    #Tokenizing words\n",
        "    words = word_tokenize(text_string)\n",
        "    \n",
        "    #reducing words to their root form\n",
        "    stem = PorterStemmer()\n",
        "    \n",
        "    #creating dictionary for the word frequency table\n",
        "    frequency_table = dict()\n",
        "    for wd in words:\n",
        "        wd = stem.stem(wd)\n",
        "        if wd in stop_words:\n",
        "            continue\n",
        "        if wd in frequency_table:\n",
        "            frequency_table[wd] += 1\n",
        "        else:\n",
        "            frequency_table[wd] = 1\n",
        "\n",
        "    return frequency_table"
      ],
      "execution_count": 5,
      "outputs": []
    },
    {
      "cell_type": "code",
      "metadata": {
        "id": "2gVkMxlppmn3"
      },
      "source": [
        "#scoring sentence by its words\n",
        "def calculate_sentence_scores(sentences, frequency_table) -> dict:   \n",
        "\n",
        "    #algorithm for scoring a sentence by its words\n",
        "    sentence_weight = dict()\n",
        "\n",
        "    for sentence in sentences:\n",
        "        sentence_wordcount = (len(word_tokenize(sentence)))\n",
        "        sentence_wordcount_without_stop_words = 0\n",
        "        for word_weight in frequency_table:\n",
        "            if word_weight in sentence.lower():\n",
        "                sentence_wordcount_without_stop_words += 1\n",
        "                if sentence[:7] in sentence_weight:\n",
        "                    sentence_weight[sentence[:7]] += frequency_table[word_weight]\n",
        "                else:\n",
        "                    sentence_weight[sentence[:7]] = frequency_table[word_weight]\n",
        "\n",
        "        sentence_weight[sentence[:7]] = sentence_weight[sentence[:7]] / sentence_wordcount_without_stop_words\n",
        "\n",
        "       \n",
        "\n",
        "    return sentence_weight\n",
        "\n"
      ],
      "execution_count": 6,
      "outputs": []
    },
    {
      "cell_type": "code",
      "metadata": {
        "id": "CofpRjELCm-8"
      },
      "source": [
        "#Getting the thershold\n",
        "def calculate_average_score(sentence_weight) -> int:\n",
        "   \n",
        "    #calculating the average score for the sentences\n",
        "    sum_values = 0\n",
        "    for entry in sentence_weight:\n",
        "        sum_values += sentence_weight[entry]\n",
        "\n",
        "    #getting sentence average value from source text\n",
        "    average_score = (sum_values / len(sentence_weight))\n",
        "\n",
        "    return average_score\n",
        "\n"
      ],
      "execution_count": 7,
      "outputs": []
    },
    {
      "cell_type": "code",
      "metadata": {
        "id": "5rVQYqZeCm8K"
      },
      "source": [
        "#producing the summary\n",
        "def get_article_summary(sentences, sentence_weight, threshold):\n",
        "    sentence_counter = 0\n",
        "    article_summary = ''\n",
        "\n",
        "    for sentence in sentences:\n",
        "        if sentence[:7] in sentence_weight and sentence_weight[sentence[:7]] >= (threshold):\n",
        "            article_summary += \" \" + sentence\n",
        "            sentence_counter += 1\n",
        "\n",
        "    return article_summary\n",
        "\n"
      ],
      "execution_count": 8,
      "outputs": []
    },
    {
      "cell_type": "code",
      "metadata": {
        "colab": {
          "base_uri": "https://localhost:8080/"
        },
        "id": "vNQRm0NMCm2s",
        "outputId": "b5921e1e-7bb2-41db-b8a3-3c4e0e8c0dbb"
      },
      "source": [
        "def run_article_summary(article):\n",
        "    \n",
        "    #creating a dictionary for the word frequency table\n",
        "    frequency_table = create_dictionary_table(article)\n",
        "\n",
        "    #tokenizing the sentences\n",
        "    sentences = sent_tokenize(article)\n",
        "\n",
        "    #algorithm for scoring a sentence by its words\n",
        "    sentence_scores = calculate_sentence_scores(sentences, frequency_table)\n",
        "\n",
        "    #getting the threshold\n",
        "    threshold = calculate_average_score(sentence_scores)\n",
        "\n",
        "    #producing the summary\n",
        "    article_summary = get_article_summary(sentences, sentence_scores, 1.5 * threshold)\n",
        "\n",
        "    return article_summary\n",
        "\n",
        "if __name__ == '__main__':\n",
        "    summary_results = run_article_summary(book_corpus)\n",
        "    print(summary_results)\n"
      ],
      "execution_count": 9,
      "outputs": [
        {
          "output_type": "stream",
          "text": [
            " “Embarrassed, I look at my feet. “Why?” Morrie asked. I'm very sorry. But my old professor had made a profound decision, one he began to construct the day he came out of\n",
            "the doctor's office with a sword hanging over his head. “What a waste,” he said. Some cried. I was in demand. I was cranked to a fifth gear, and everything I did, I did on a deadline. I was back to work a week after the wedding. The door was shut. “All right,” he said cautiously, and he spoke about his children. “Good,” Morrie said. Faith. “Twice, I think.” “Twice? Some mornings, I'm so angry and\n",
            "bitter. I don't know. “Well, Fred,” Morrie said accidentally, then he quickly corrected himself. “Well, Ted, one day\n",
            "soon, someone's gonna have to wipe my ass.”\n",
            "The program aired on a Friday night. He is smiling. Mitch, I say. “Well, Mitch it is then,” Morrie says, as if closing a deal. “And, Mitch?”\n",
            "Yes? “It's gonna take a second.” Suddenly, I was upon the house. Morrie. “Yeah, yeah, I'm here,” I whispered, and continued my conversation with the TV producer until we were\n",
            "finished. “All right, then.” Morrie swallowed the pills, put down the paper cup, inhaled deeply, then let it out. “Yes,” he said. “Coach,” he says. “All right, I'll be your coach. Morrie, to my delight, is even more of a slob than I am. It cracks me up. Someone who wanted to photograph him for a magazine. “You're kind.” No, I'm not, I thought. I'm sort of … in-between.”\n",
            "He coughed, then regained his smile. I was busy. I asked myself. “Coach,” I said suddenly, remembering the nickname. “Well, for one thing, the culture we have does not make people feel good about themselves. Create your own. Morrie, who could no longer dance, swim, bathe, or\n",
            "walk; Morrie, who could no longer answer his own door, dry himself after a shower, or even roll over in\n",
            "bed. “I'm going to suffocate. Yes. “I know, Mitch. “Good,” Morrie said. Now. Until I met\n",
            "Morrie, I did not believe it . You want to do one thing, but you are bound to do something\n",
            "else. “\n",
            "Sounds like a wrestling match, I say . “Which side wins?”\n",
            "He smiles at me, the crinkled eyes, the crooked teeth. I was covering Wimbledon, the world's premier tennis competition\n",
            "and one of the few events I go to\n",
            "where the crowd never boos and no one is drunk in the parking lot. Work. The place was shut down. “We're going to fight until we win!” the union leaders swore, sounding like soldiers. “You're coming to visit me,” he said, less a question than a statement. Well. It makes no difference. “Wonderful,” he says. He laughs back. “Pep. “Ah, so much food!” he sang. “Well. This time,\n",
            "without the need to make up sixteen years of information, we slid quickly into the familiar waters of our\n",
            "old college dialogue, Morrie asking questions, listening to my replies, stopping like a chef to sprinkle in\n",
            "something I'd forgotten or hadn't realized. “Well, I think that day is coming. Someone wiping your bottom. “Yes. “Well, I have to look at life uniquely now. He laughed, and I was relieved that he did . “Yes,” Morrie said. He sighed. I don't know\n",
            "any of these people. “I cry all the time now,” he said. “Never mind.”\n",
            "Amazing , I thought. Morrie, for the suffering of people\n",
            "half a world away, was weeping. Men crying?”\n",
            "Sure, I said, too quickly. He grinned. “Yeah, yeah,” he said. “We're Tuesday people,” he said. “Let it come in. “So you'll come back next Tuesday?” he whispered. We squirm, check our watches. On my way out, Morrie stops me. “You didn't say much today,” he remarks. I don't know. I asked Morrie if he felt sorry for him self. “Sometimes, in the mornings,” he said. You want me to do that? I asked. “Ahhhn,” he softly groaned. I gotcha, I gotcha, I said. We are in an unusual\n",
            "sociology class at Brandeis, something Morrie calls “Group Process.” Each week we study the ways in\n",
            "which the students in the group interact with one another, how they respond to anger, jealousy,\n",
            "attention. We are human lab rats. More often than not, someone ends up crying. On this day, Morrie says he has an exercise for us to try. We are to stand, facing away from our\n",
            "classmates, and fall backward, relying on another student to catch us. Some clap. “When I'm dead.” Don't say that. He laughed. “So big,” he said. “Put it down,” he said. I put it down . “I want someone to hear my story. Will you?”\n",
            "I nodded. And I wanted to remember it for as long as I could. Fine, I figured. I ask. “Congratulations,” Morrie says. This time, when the cameramen and producers came through the door, they\n",
            "already felt like family. But I know it . “When I have people and friends here, I'm very up. Let me not deceive you. But my voice? “We will hold hands,” Morrie said. No car. “Come on,” he said to his brother. “Nothing else,” she would answer. They are dry, not wet by rain . Take pity on me, take pity on me . And to learn. When Morrie was a teenager, his father took him to a fur factory where he worked. This, for Morrie, was a blessing. “Yes. “I'm going to say it again,” he said. “Oh, yes. He sighed. “Mitch. “Well, the truth is, if you really listen to that bird on your shoulder, if you accept that you can die at any\n",
            "time then you might not be as ambitious as you are.”\n",
            "I forced a small grin . We are too involved in materialistic things, and they don't satisfy us. “Yes. “All right,” Morrie said when the reading was complete. “Add 'thank you, Morrie,'”Morrie said. It went on and on. “Which one?”\n",
            "Come on. “Remind me,” Morrie says. “Yeah. Well. And here was Morrie in his study. “Well, my friend,” he said, “what are we talking about today?” How about family? “Well, you see mine, all around m e. ”\n",
            "He nodded to photos on his bookshelves, of Morrie as a child with his grandmother; Morrie as a young\n",
            "man with his brother, David; Morrie with his wife, Charlotte; Morrie with his two sons, Rob, a journalist\n",
            "in Tokyo, and ion, a computer expert in Boston. “Love each other or perish,” Morrie said. “It's good, no? It's not the same as having someone whom you know\n",
            "has an eye on you, is watching you the whole time. Not money. “Not work,” he added. “Do not stop your lives,” he told them. I asked. “And now,” he whispered, “you talk.”\n",
            "\n",
            "\fMe? “Your family. I know about your parents. “Older, yes?” Older. “Younger?”\n",
            "Younger. “Like me,” Morrie said. And I was right. It came. The pancreas. A rare form. But my brother was not me, and he\n",
            "was not my uncle. So once again, I dove into work. My brother and I are\n",
            "on the sled, him on top, me on the bottom. We see it coming, down the street to our left. We are safe. I'm sorry, I said. Then she\n",
            "continued. “… a sense of purpose,” she continued. “Yes. “Yes. “Yes. “Ah. You're thinking, Mitch. ”\n",
            "\n",
            "\fI'm lost . You're afraid of the\n",
            "pain, you're afraid of the grief. You're afraid of the vulnerability that loving entails. “I know you think this is just about dying,” he said, “but it's like I keep telling you. Turn on the faucet. “I want to die serenely. Peacefully. “No. Not yet. I ask. No, I say. I don't think that's strange at all. He took notes, which is what he\n",
            "was there to do. “So you're one of them, too,” she snarled. Someone was now wiping his behind. I asked Morrie how he managed to stay positive through that. I revel in it. Someone to bathe you. Someone to lift you. Someone to wipe\n",
            "you. “I know I didn't.”\n",
            "I looked at Morrie and I suddenly knew why he so enjoyed my leaning over and adjusting his\n",
            "microphone, or fussing with the pillows, or wiping his eyes. Human touch. “Listen, I know what a misery being young can be, so\n",
            "don't tell me it's so great. As you grow, you learn more. Aging is not just decay, you know. You want to go\n",
            "forward. You want to see more, do more. “Listen. No problem, I said. “Mitch. Or dance. But envy comes to me, I feel it, and then I let it go. Let it go. I am every age, up to my own. More is good. More is good. Your concern. Your storytelling. It's not so hard. “I'm dying, right?” Yes. “Of course I do. He shook it weakly, trying to get Connie's attention. Let me hear i t . “They want to come and do another show with me,” he said. You're on your last breath? “Maybe. “Anyhow,” Morrie said, “I told them they better not wait too long, because my voice won't be there. Mitch, there are so many. “Should we skip\n",
            "it?” I asked. “No,” he\n",
            "finally said. “You and I have to go on . Now here we were, doing the same thing once more. This time, I was in less of a hurry to finish. I asked. “Maybe. Yeah, yeah, I would answer. I don't want to hear about tombstones. ”\n",
            "No, go ahead. Yes, I said. Very good. When Morrie was with you, he was really with you. “I am talking to you. “Part of the problem, Mitch, is that everyone is in such a hurry,” Morrie said. Nor did he tuck them in, nor kiss them good-night. “Give us your money,” one said, pulling a gun. What we\n",
            "take, we must replenish. “It's only fair,” he says. My wife. “Hiiiiii,” he gasped. You doing okay, Coach? “Mitch.”\n",
            "Yeah ? “Put her on. Morrie, by his own admission, was a harmless\n",
            "flirt, and while he often had to stop for coughing, or to use the commode, he seemed to find new\n",
            "reserves of energy with Janine in the room. “You are from Detroit?” Morrie said. Yes, Janine said. “My helper, this one is. “Anyhow. My story. Yech. “So … Janine,” Morrie said. “You are lovely. No. I asked Morrie about this. “Well, I feel sorry for your generation,” Morrie said. “You get tested. “Your belief in the importance of your marriage.” He sniffed, then closed his eyes for a moment. Morrie, his face on the pillow, gave a little smile. “Not too hard,” he said. “Which is why I don't buy into it . I don't go around naked, for example. I don't run through red lights. “Take my condition. “Where?”\n",
            "I don't know. South America. New Guinea. He sits down, smiling and triumphant. He shook his\n",
            "head. “When I sit on the commode, I can no longer sit up straight. “You did a good job,” Koppel said. “I gave you what I had,” he whispered. “You always do. ”\n",
            "“Ted, this disease is knocking at my spirit. The sky was rainy and dark, and Morrie was beneath\n",
            "a blanket. Pride. Vanity. “Well, here's the sad part of the story,” Morrie said. I know they knew about it. “\n",
            "His voice choked. Sorry, I said. “Don't be,” he whispered. “Yes. Make peace. Don't wait, Mitch. “Look at m e . “Not far from here. Very serene. I chuckle. Make it a Tuesday. “Right. “Look at me,” he says. “Tell you what. After I'm dead, you talk. To me, it symbolized helplessness. It went on for hours. No end to the choking. He shook his head slightly. “No, I didn't. “We're not. “All right,” he whispered, “now here's the payoff. “Not for me,” Morrie said, dismissing i t . He shook his head. “Your brother,” he said. “I know,” Morrie said. Morrie, I said. “Okay. “The second wave says, 'No, you don't understand. You're not a wave, you're part of the ocean. “Part of the ocean,” he says, “part of the ocean. I don't know why. He's such a sweet man, you know?”\n",
            "I knew. “All right,” she said softly. I was confused. I am your friend, I said. Morrie, I said softly. “Coach,” he corrected. Coach, I said. His voice was thin and\n",
            "raspy. “Love … you,” he rasped. Okay, then? “Okay, then,” he whispered. Morrie\n",
            "was right. I know I cannot do this. “You're my only brother,” I said. Sore Tush.\n"
          ],
          "name": "stdout"
        }
      ]
    },
    {
      "cell_type": "markdown",
      "metadata": {
        "id": "HCt0ED8TSKXk"
      },
      "source": [
        "# **Text Summarization by abstraction using BERT summarizer**"
      ]
    },
    {
      "cell_type": "code",
      "metadata": {
        "id": "LsB8mAdHFUI3"
      },
      "source": [
        "!pip install -q bert-extractive-summarizer\n",
        "!pip install -q spacy==2.1.3\n",
        "!pip install -q transformers==2.2.2\n",
        "!pip install -q neuralcoref"
      ],
      "execution_count": null,
      "outputs": []
    },
    {
      "cell_type": "code",
      "metadata": {
        "id": "hUiUJRQwFUGB"
      },
      "source": [
        "from summarizer import Summarizer\n",
        "model = Summarizer()"
      ],
      "execution_count": 11,
      "outputs": []
    },
    {
      "cell_type": "code",
      "metadata": {
        "colab": {
          "base_uri": "https://localhost:8080/"
        },
        "id": "xYMMau5LFUA-",
        "outputId": "2a4961a1-08a7-4b8d-ea6b-ac972c3e75f5"
      },
      "source": [
        "result = model(book_corpus, num_sentences=20, min_length=60)\n",
        "print(result)"
      ],
      "execution_count": 12,
      "outputs": [
        {
          "output_type": "stream",
          "text": [
            "TUESDAYS\n",
            "WITH\n",
            "MORRIE:\n",
            "AN OLD MAN,\n",
            "A YOUNG MAN,\n",
            "AND\n",
            "LIFE'S GREATEST LESSON\n",
            "\n",
            "Mitch Albom\n",
            "\n",
            "\fAcknowledgments\n",
            "I would like to acknowledge the enormous help given to me in creating this book. Finally, when nothing could be found, one doctor ordered a\n",
            "muscle biopsy, taking a small piece out of Morrie's calf. Finally, on a hot, humid day in August 1994, Morrie and his wife, Charlotte, went to the neurologist's\n",
            "office, and he asked them to sit before he broke the news:\n",
            "Morrie had amyotrophic lateral sclerosis (ALS), Lou Gehrig's disease, a brutal, unforgiving illness of the\n",
            "neurological system . He looked out toward the horizon and said, through gritted\n",
            "teeth, that he wouldn't be around to see his kids into the next school year. I\n",
            "no longer rented a cellular phone for the rides from the airport. All I knew was this: Morrie, my old professor, wasn't in the self-help business. During lunch break, his father took Morrie to the boss and pushed him in front of him, asking if there\n",
            "was any work for his son. Although it wasn't encouraged, he befriended some of\n",
            "the patients, including a woman who joked with him about how lucky she was to be there “because my\n",
            "husband is rich so he can afford it. I told Morrie I was already feeling over\n",
            "the hill, much as I tried desperately to stay on top of it. Sitting\n",
            "there, I felt so much stronger than he, ridiculously so, as if I could lift him and toss him over my shoulder\n",
            "like a sack of flour. On the contrary, you'll be overwhelmed with\n",
            "what comes back.” He did this for many people, I know, but it\n",
            "was his special talent to make each visitor feel that the smile was unique. Despite his personal pain and decay, this little old man listened the\n",
            "way they always wanted someone to listen. “Well,” he said, closing his eyes, “I have some experience in that area …”\n",
            "The last time Morrie saw his own father was in a city morgue. He ran through the streets, and kept running until he reached the steps of a relative's house,\n",
            "where he collapsed on the porch. The horror of the room, he would later say, sucked all other functions\n",
            "out of him. Which is when she began to sing:\n",
            "“The very thought of you and I forget to do the little ordinary things\n",
            "that everyone ought to do …”\n",
            "\n",
            "\fIt was a 1930s standard, written by Ray Noble, and Janine sang it sweetly, looking straight at Morrie. You realize that, especially when you're in a time like I am, when you're not doing so well. “For me, Ted, living means I can be responsive to the other person. “My father moved through theys of we , singing each new leaf out of each tree (and every child was sure\n",
            "that spring\n",
            "danced when she heard my father sing) …”\n",
            "Poem by E. E. Cummings, read by Morrie's son, Rob, at the Memorial service\n",
            "\n",
            "\fConclusion\n",
            "I look back sometimes at the person I was before I rediscovered my old professor. And I discovered a final paper I had\n",
            "written for one of his classes.\n"
          ],
          "name": "stdout"
        }
      ]
    }
  ]
}